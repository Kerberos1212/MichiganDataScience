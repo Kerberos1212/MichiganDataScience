{
 "cells": [
  {
   "cell_type": "code",
   "execution_count": 1,
   "metadata": {},
   "outputs": [],
   "source": [
    "\n",
    "import matplotlib.pyplot as plt\n",
    "import numpy as np\n",
    "from PIL import Image\n",
    "from matplotlib.image import imread\n",
    "from scipy.spatial import distance\n",
    "import time\n",
    "from scipy import misc\n",
    "from skimage import io\n",
    "\n",
    "\n",
    "%matplotlib notebook\n",
    "\n",
    "def mykmedoid(pixels,K):\n",
    "    start = time.time()\n",
    "    pixels = pixels.T\n",
    "    m = pixels.shape[1]\n",
    "    d = pixels.shape[0]\n",
    "    \n",
    "    rand_c = pixels[:, np.random.randint(m,size=(1, K))[0]]\n",
    "    ite = 5000\n",
    "    print (\"algorithm started ---\")\n",
    "    total_cost = -1\n",
    "    \n",
    "    for i in range(ite):\n",
    "        print (\"--running %d \\n\" % i)\n",
    "        c2rand = np.sum(np.power(rand_c,2), axis=0)\n",
    "        tempdiff = (2*np.dot(pixels.T,rand_c) - c2rand)\n",
    "        labels = np.argmax(tempdiff, axis=1)\n",
    "        \n",
    "        clu = {}\n",
    "        for i in range(K):\n",
    "            clu[i] = []\n",
    "            clu[i] += [idx for idx,val in enumerate(labels) if i==val]\n",
    "        \n",
    "        cn = np.zeros((d,K))\n",
    "        \n",
    "        for k, cl in clu.items():\n",
    "            med = rand_c[:,k]\n",
    "            totalCost = [0]*len(cl)\n",
    "            for idx,sample in enumerate(cl):\n",
    "                cost = distance.cityblock(pixels[:,sample],med)\n",
    "                totalCost[idx] += cost\n",
    "            if len(totalCost) > 0:\n",
    "                newmed = pixels[:,cl[np.argmin(totalCost, axis=0)]]\n",
    "            else:\n",
    "                newmed = med\n",
    "            cn[:,k] = newmed\n",
    "        \n",
    "        cost_iter = np.sum(totalCost)\n",
    "        rand_c = cn\n",
    "        \n",
    "        if total_cost == -1:\n",
    "            total_cost = cost_iter\n",
    "        \n",
    "        elif total_cost > cost_iter + 0.1:\n",
    "            total_cost = cost_iter\n",
    "            \n",
    "        else:\n",
    "            print('convergence achieved with cost:')\n",
    "            print(total_cost)\n",
    "            break\n",
    "        \n",
    "        print('cost for this iteration is..')\n",
    "        print(total_cost)\n",
    "    \n",
    "    labl = np.reshape(labels, (labels.shape[0],1))\n",
    "    print (\"K-Medoid ended ---\")\n",
    "    print(\"the code has runned for the following seconds:\")\n",
    "    print(time.time() - start)\n",
    "    return [labl, rand_c.T]"
   ]
  },
  {
   "cell_type": "code",
   "execution_count": 2,
   "metadata": {},
   "outputs": [],
   "source": [
    "\n",
    "def main():\n",
    "    im = io.imread('Guille_pic.jpg', plugin='matplotlib')\n",
    "    print(im.shape)\n",
    "    arr = []\n",
    "    #plt.imshow(im)\n",
    "    for x in im:\n",
    "        for y in x:\n",
    "            arr.append(y)\n",
    "\n",
    "    # converting list to array \n",
    "    arra = np.array(arr) \n",
    "  \n",
    "    results = mykmedoid(arra,6)\n",
    "\n"
   ]
  },
  {
   "cell_type": "code",
   "execution_count": 3,
   "metadata": {},
   "outputs": [
    {
     "name": "stdout",
     "output_type": "stream",
     "text": [
      "(240, 320, 3)\n",
      "algorithm started ---\n",
      "--running 0 \n",
      "\n",
      "cost for this iteration is..\n",
      "4528667\n",
      "--running 1 \n",
      "\n",
      "cost for this iteration is..\n",
      "90282.0\n",
      "--running 2 \n",
      "\n",
      "convergence achieved with cost:\n",
      "90282.0\n",
      "K-Medoid ended ---\n",
      "the code has runned for the following seconds:\n",
      "24.299827098846436\n"
     ]
    }
   ],
   "source": [
    "main()"
   ]
  },
  {
   "cell_type": "code",
   "execution_count": null,
   "metadata": {},
   "outputs": [],
   "source": []
  },
  {
   "cell_type": "code",
   "execution_count": null,
   "metadata": {},
   "outputs": [],
   "source": []
  }
 ],
 "metadata": {
  "kernelspec": {
   "display_name": "Python 3",
   "language": "python",
   "name": "python3"
  },
  "language_info": {
   "codemirror_mode": {
    "name": "ipython",
    "version": 3
   },
   "file_extension": ".py",
   "mimetype": "text/x-python",
   "name": "python",
   "nbconvert_exporter": "python",
   "pygments_lexer": "ipython3",
   "version": "3.7.6"
  }
 },
 "nbformat": 4,
 "nbformat_minor": 4
}
